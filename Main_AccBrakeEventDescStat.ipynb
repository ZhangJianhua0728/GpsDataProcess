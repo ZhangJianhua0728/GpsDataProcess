{
 "cells": [
  {
   "cell_type": "code",
   "execution_count": null,
   "metadata": {},
   "outputs": [],
   "source": [
    "import numpy as np\n",
    "import matplotlib.pyplot as plt\n",
    "import pandas as pd\n",
    "import seaborn as sns\n",
    "\n",
    "plt.rc('font',family='Times New Roman')"
   ]
  },
  {
   "cell_type": "code",
   "execution_count": null,
   "metadata": {},
   "outputs": [],
   "source": [
    "acc_data = pd.read_csv('/Users/zhangjianhua/Desktop/明觉:公路院项目/A_Code_MingJueProject/gps数据处理/data/加速制动事件/gps加速事件提取附加车辆信息.csv')\n",
    "dec_data = pd.read_csv('/Users/zhangjianhua/Desktop/明觉:公路院项目/A_Code_MingJueProject/gps数据处理/data/加速制动事件/gps制动事件提取附加车辆信息.csv')"
   ]
  },
  {
   "cell_type": "code",
   "execution_count": null,
   "metadata": {},
   "outputs": [],
   "source": [
    "acc_data = acc_data[acc_data['mean_v']<=105]\n",
    "dec_data = dec_data[dec_data['mean_v']<=105]"
   ]
  },
  {
   "cell_type": "code",
   "execution_count": null,
   "metadata": {},
   "outputs": [],
   "source": [
    "# 计算边界值\n",
    "min_value = int(acc_data['mean_v'].min())\n",
    "max_value = int(acc_data['mean_v'].max())\n",
    "\n",
    "# 创建分组标签\n",
    "bins = np.arange(min_value, max_value + 15, 15)\n",
    "labels = [f'{x}-{x+14}' for x in bins[:-1]]\n",
    "\n",
    "# 将数据进行分组\n",
    "acc_data['v_group'] = pd.cut(acc_data['mean_v'], bins=bins, labels=labels, include_lowest=True) # type: ignore\n",
    "\n",
    "# 打印结果\n",
    "acc_data"
   ]
  },
  {
   "cell_type": "code",
   "execution_count": null,
   "metadata": {},
   "outputs": [],
   "source": [
    "# 将数据转换为长格式\n",
    "acc_data_long = acc_data.melt(id_vars='v_group', value_vars=['min_acc_lon', 'mean_acc_lon', 'max_acc_lon'], var_name='Variable', value_name='Value')\n",
    "fig, ax = plt.subplots(figsize=(4,3))\n",
    "# 设置自定义调色板\n",
    "custom_palette = sns.color_palette(['#003a6c', '#78a355', '#f391a9'])\n",
    "# 绘制不同分组下的箱型图\n",
    "ax = sns.boxplot(x='v_group', y='Value', hue='Variable', data=acc_data_long, showfliers=False, \n",
    "            palette=custom_palette, linewidth=0.75)\n",
    "plt.xlabel('Velocity(km/h)', fontsize=10.5)\n",
    "plt.ylabel('Acceleration(m/s$^2$)',fontsize=10.5)\n",
    "plt.xticks(fontsize=9)\n",
    "plt.yticks(fontsize=9)\n",
    "plt.legend(fontsize=9)\n",
    "plt.tight_layout()\n",
    "plt.savefig('/Users/zhangjianhua/Desktop/明觉:公路院项目/A_Code_MingJueProject/gps数据处理/figure/加速度分布特征.pdf')"
   ]
  },
  {
   "cell_type": "code",
   "execution_count": null,
   "metadata": {},
   "outputs": [],
   "source": [
    "fig, ax = plt.subplots(figsize=(4,3))\n",
    "# 绘制不同分组下的箱型图\n",
    "sns.boxplot(x='v_group', y='std_acc_lon', data=acc_data, showfliers=False, palette='PuBuGn', linewidth=0.75)\n",
    "plt.xlabel('Velocity(km/h)', fontsize=10.5)\n",
    "plt.ylabel('Acceleration Std',fontsize=10.5)\n",
    "plt.xticks(fontsize=9)\n",
    "plt.yticks(fontsize=9)\n",
    "plt.tight_layout()\n",
    "plt.savefig('/Users/zhangjianhua/Desktop/明觉:公路院项目/A_Code_MingJueProject/gps数据处理/figure/加速度标准差分布特征.pdf')"
   ]
  },
  {
   "cell_type": "code",
   "execution_count": null,
   "metadata": {},
   "outputs": [],
   "source": [
    "fig, ax = plt.subplots(figsize=(4,3))\n",
    "# 绘制不同分组下的箱型图\n",
    "sns.boxplot(x='v_group', y='duration', data=acc_data, showfliers=False, palette='PiYG', linewidth=0.75)\n",
    "plt.xlabel('Velocity(km/h)', fontsize=10.5)\n",
    "plt.ylabel('Duration(s)',fontsize=10.5)\n",
    "plt.xticks(fontsize=9)\n",
    "plt.yticks(fontsize=9)\n",
    "plt.tight_layout()\n",
    "plt.savefig('/Users/zhangjianhua/Desktop/明觉:公路院项目/A_Code_MingJueProject/gps数据处理/figure/事件持续时间分布.pdf')"
   ]
  },
  {
   "cell_type": "code",
   "execution_count": null,
   "metadata": {},
   "outputs": [],
   "source": [
    "# 计算边界值\n",
    "min_value = int(dec_data['mean_v'].min())\n",
    "max_value = int(dec_data['mean_v'].max())\n",
    "\n",
    "# 创建分组标签\n",
    "bins = np.arange(min_value, max_value + 15, 15)\n",
    "labels = [f'{x}-{x+14}' for x in bins[:-1]]\n",
    "\n",
    "# 将数据进行分组\n",
    "dec_data['v_group'] = pd.cut(dec_data['mean_v'], bins=bins, labels=labels, include_lowest=True) # type: ignore\n",
    "dec_data"
   ]
  },
  {
   "cell_type": "code",
   "execution_count": null,
   "metadata": {},
   "outputs": [],
   "source": [
    "# 将数据转换为长格式\n",
    "dec_data_long = dec_data.melt(id_vars='v_group', value_vars=['min_dec_lon', 'mean_dec_lon', 'max_dec_lon'], var_name='Variable', value_name='Value')\n",
    "fig, ax = plt.subplots(figsize=(4,3))\n",
    "# 设置自定义调色板\n",
    "custom_palette = sns.color_palette(['#003a6c', '#78a355', '#f391a9'])\n",
    "# 绘制不同分组下的箱型图\n",
    "ax = sns.boxplot(x='v_group', y='Value', hue='Variable', data=dec_data_long, showfliers=False, \n",
    "            palette=custom_palette, linewidth=0.75)\n",
    "plt.xlabel('Velocity(km/h)', fontsize=10.5)\n",
    "plt.ylabel('Deceleration(m/s$^2$)',fontsize=10.5)\n",
    "plt.xticks(fontsize=9)\n",
    "plt.yticks(fontsize=9)\n",
    "plt.legend(fontsize=9)\n",
    "plt.tight_layout()\n",
    "plt.savefig('/Users/zhangjianhua/Desktop/明觉:公路院项目/A_Code_MingJueProject/gps数据处理/figure/减速度分布特征.pdf')"
   ]
  },
  {
   "cell_type": "code",
   "execution_count": null,
   "metadata": {},
   "outputs": [],
   "source": [
    "fig, ax = plt.subplots(figsize=(4,3))\n",
    "# 绘制不同分组下的箱型图\n",
    "sns.boxplot(x='v_group', y='std_dec_lon', data=dec_data, showfliers=False, palette='PuBuGn', linewidth=0.75)\n",
    "plt.xlabel('Velocity(km/h)', fontsize=10.5)\n",
    "plt.ylabel('Deceleration Std',fontsize=10.5)\n",
    "plt.xticks(fontsize=9)\n",
    "plt.yticks(fontsize=9)\n",
    "plt.tight_layout()\n",
    "plt.savefig('/Users/zhangjianhua/Desktop/明觉:公路院项目/A_Code_MingJueProject/gps数据处理/figure/减速度标准差分布特征.pdf')"
   ]
  },
  {
   "cell_type": "code",
   "execution_count": null,
   "metadata": {},
   "outputs": [],
   "source": [
    "fig, ax = plt.subplots(figsize=(4,3))\n",
    "# 绘制不同分组下的箱型图\n",
    "sns.boxplot(x='v_group', y='duration', data=dec_data, showfliers=False, palette='PiYG', linewidth=0.75)\n",
    "plt.xlabel('Velocity(km/h)', fontsize=10.5)\n",
    "plt.ylabel('Duration(s)',fontsize=10.5)\n",
    "plt.xticks(fontsize=9)\n",
    "plt.yticks(fontsize=9)\n",
    "plt.tight_layout()\n",
    "plt.savefig('/Users/zhangjianhua/Desktop/明觉:公路院项目/A_Code_MingJueProject/gps数据处理/figure/减速事件持续时间分布.pdf')"
   ]
  }
 ],
 "metadata": {
  "language_info": {
   "name": "python"
  },
  "orig_nbformat": 4
 },
 "nbformat": 4,
 "nbformat_minor": 2
}
