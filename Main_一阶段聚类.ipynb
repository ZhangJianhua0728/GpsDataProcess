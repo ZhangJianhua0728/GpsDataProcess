{
 "cells": [
  {
   "attachments": {},
   "cell_type": "markdown",
   "metadata": {},
   "source": [
    "### 1. 导入完成主成分分析和聚类所需要的包"
   ]
  },
  {
   "cell_type": "code",
   "execution_count": 1,
   "metadata": {},
   "outputs": [],
   "source": [
    "import matplotlib.pyplot as plt\n",
    "import pandas as pd\n",
    "import numpy as np\n",
    "from A06_PCA import DimensionReduce, show_scree_plot, show_correlation_plot\n",
    "from A07_KMeans import Clustering\n",
    "from A06_StandardScaler import Standard\n",
    "from ShowClusterScatter import show_class_result\n",
    "from ShowSilhouette import show_silhouette_plot\n",
    "import warnings\n",
    "import joblib\n",
    "\n",
    "warnings.filterwarnings('ignore')\n",
    "\n",
    "plt.rc('font', family='Times New Roman')\n"
   ]
  },
  {
   "attachments": {},
   "cell_type": "markdown",
   "metadata": {},
   "source": [
    "### 2. 读取加速、减速事件数据内容"
   ]
  },
  {
   "cell_type": "code",
   "execution_count": 2,
   "metadata": {},
   "outputs": [],
   "source": [
    "acc_data = pd.read_csv(\n",
    "    '../GpsData/BasicData/加速制动事件/gps加速事件提取附加车辆信息.csv')\n",
    "# 提取重型货车数据\n",
    "acc_data = acc_data[(acc_data['car_type'] == '重型货车')].reset_index(drop=True)\n",
    "acc_data = acc_data[acc_data['max_acc_lon'] < 5].reset_index(drop=True)\n",
    "acc_data['logo'] = '加速事件'\n"
   ]
  },
  {
   "cell_type": "code",
   "execution_count": 3,
   "metadata": {},
   "outputs": [],
   "source": [
    "dec_data = pd.read_csv(\n",
    "    '../GpsData/BasicData/加速制动事件/gps制动事件提取附加车辆信息.csv')\n",
    "# 提取重型货车数据\n",
    "dec_data = dec_data[(dec_data['car_type'] == '重型货车')].reset_index(drop=True)\n",
    "dec_data = dec_data[dec_data['max_dec_lon'] < 5].reset_index(drop=True)\n",
    "dec_data['logo'] = '刹车事件'\n"
   ]
  },
  {
   "attachments": {},
   "cell_type": "markdown",
   "metadata": {},
   "source": [
    "### 3. 一阶段速度聚类\n",
    "#### 对加速和刹车事件速度特征['max_v','mean_v', 'std_v', 'min_v', 'duration']进行标准化后一阶段聚类分析\n",
    "#### 通过降维对降维后的数据可视化"
   ]
  },
  {
   "cell_type": "code",
   "execution_count": 4,
   "metadata": {},
   "outputs": [],
   "source": [
    "data = pd.concat([acc_data,dec_data],axis=0).reset_index(drop=True)"
   ]
  },
  {
   "attachments": {},
   "cell_type": "markdown",
   "metadata": {},
   "source": [
    "#### 3.1 速度特征标准化"
   ]
  },
  {
   "cell_type": "code",
   "execution_count": 5,
   "metadata": {},
   "outputs": [
    {
     "data": {
      "text/plain": [
       "['../GpsData/两阶段聚类_New/一阶段速度聚类/速度_时间相关指标_数据标准化模型.pkl']"
      ]
     },
     "execution_count": 5,
     "metadata": {},
     "output_type": "execute_result"
    }
   ],
   "source": [
    "# 读取标准化后的一级聚类特征数据\n",
    "speed_index = data[['max_v','mean_v', 'std_v', 'min_v','duration']]\n",
    "speed_ss = Standard(speed_index)\n",
    "ss_speed_index = speed_ss.out_scaled_result()\n",
    "# 速度聚类模型保存\n",
    "joblib.dump(speed_ss,'../GpsData/两阶段聚类_New/一阶段速度聚类/速度_时间相关指标_数据标准化模型.pkl') "
   ]
  },
  {
   "cell_type": "code",
   "execution_count": 6,
   "metadata": {},
   "outputs": [
    {
     "data": {
      "text/html": [
       "<div>\n",
       "<style scoped>\n",
       "    .dataframe tbody tr th:only-of-type {\n",
       "        vertical-align: middle;\n",
       "    }\n",
       "\n",
       "    .dataframe tbody tr th {\n",
       "        vertical-align: top;\n",
       "    }\n",
       "\n",
       "    .dataframe thead th {\n",
       "        text-align: right;\n",
       "    }\n",
       "</style>\n",
       "<table border=\"1\" class=\"dataframe\">\n",
       "  <thead>\n",
       "    <tr style=\"text-align: right;\">\n",
       "      <th></th>\n",
       "      <th>ss_max_v</th>\n",
       "      <th>ss_mean_v</th>\n",
       "      <th>ss_std_v</th>\n",
       "      <th>ss_min_v</th>\n",
       "      <th>ss_duration</th>\n",
       "    </tr>\n",
       "  </thead>\n",
       "  <tbody>\n",
       "    <tr>\n",
       "      <th>0</th>\n",
       "      <td>-1.400024</td>\n",
       "      <td>-1.341252</td>\n",
       "      <td>-0.535997</td>\n",
       "      <td>-1.225768</td>\n",
       "      <td>1.494373</td>\n",
       "    </tr>\n",
       "    <tr>\n",
       "      <th>1</th>\n",
       "      <td>-1.524286</td>\n",
       "      <td>-1.455157</td>\n",
       "      <td>-0.549466</td>\n",
       "      <td>-1.268858</td>\n",
       "      <td>-0.250432</td>\n",
       "    </tr>\n",
       "    <tr>\n",
       "      <th>2</th>\n",
       "      <td>-1.264465</td>\n",
       "      <td>-1.119074</td>\n",
       "      <td>-0.947820</td>\n",
       "      <td>-0.870277</td>\n",
       "      <td>-0.056565</td>\n",
       "    </tr>\n",
       "    <tr>\n",
       "      <th>3</th>\n",
       "      <td>-0.897327</td>\n",
       "      <td>-0.749346</td>\n",
       "      <td>-0.867648</td>\n",
       "      <td>-0.584808</td>\n",
       "      <td>0.912771</td>\n",
       "    </tr>\n",
       "    <tr>\n",
       "      <th>4</th>\n",
       "      <td>-0.671397</td>\n",
       "      <td>-0.535384</td>\n",
       "      <td>-0.861533</td>\n",
       "      <td>-0.310110</td>\n",
       "      <td>0.331169</td>\n",
       "    </tr>\n",
       "    <tr>\n",
       "      <th>...</th>\n",
       "      <td>...</td>\n",
       "      <td>...</td>\n",
       "      <td>...</td>\n",
       "      <td>...</td>\n",
       "      <td>...</td>\n",
       "    </tr>\n",
       "    <tr>\n",
       "      <th>430275</th>\n",
       "      <td>0.955306</td>\n",
       "      <td>0.313650</td>\n",
       "      <td>3.371295</td>\n",
       "      <td>-0.283179</td>\n",
       "      <td>0.912771</td>\n",
       "    </tr>\n",
       "    <tr>\n",
       "      <th>430276</th>\n",
       "      <td>-0.609266</td>\n",
       "      <td>-0.881868</td>\n",
       "      <td>1.942830</td>\n",
       "      <td>-1.188065</td>\n",
       "      <td>-0.444300</td>\n",
       "    </tr>\n",
       "    <tr>\n",
       "      <th>430277</th>\n",
       "      <td>0.079824</td>\n",
       "      <td>0.149164</td>\n",
       "      <td>-0.560810</td>\n",
       "      <td>0.239285</td>\n",
       "      <td>1.494373</td>\n",
       "    </tr>\n",
       "    <tr>\n",
       "      <th>430278</th>\n",
       "      <td>0.480851</td>\n",
       "      <td>0.276794</td>\n",
       "      <td>3.579387</td>\n",
       "      <td>-0.913367</td>\n",
       "      <td>0.525037</td>\n",
       "    </tr>\n",
       "    <tr>\n",
       "      <th>430279</th>\n",
       "      <td>0.300106</td>\n",
       "      <td>0.087723</td>\n",
       "      <td>0.577780</td>\n",
       "      <td>-0.056958</td>\n",
       "      <td>1.688240</td>\n",
       "    </tr>\n",
       "  </tbody>\n",
       "</table>\n",
       "<p>430280 rows × 5 columns</p>\n",
       "</div>"
      ],
      "text/plain": [
       "        ss_max_v  ss_mean_v  ss_std_v  ss_min_v  ss_duration\n",
       "0      -1.400024  -1.341252 -0.535997 -1.225768     1.494373\n",
       "1      -1.524286  -1.455157 -0.549466 -1.268858    -0.250432\n",
       "2      -1.264465  -1.119074 -0.947820 -0.870277    -0.056565\n",
       "3      -0.897327  -0.749346 -0.867648 -0.584808     0.912771\n",
       "4      -0.671397  -0.535384 -0.861533 -0.310110     0.331169\n",
       "...          ...        ...       ...       ...          ...\n",
       "430275  0.955306   0.313650  3.371295 -0.283179     0.912771\n",
       "430276 -0.609266  -0.881868  1.942830 -1.188065    -0.444300\n",
       "430277  0.079824   0.149164 -0.560810  0.239285     1.494373\n",
       "430278  0.480851   0.276794  3.579387 -0.913367     0.525037\n",
       "430279  0.300106   0.087723  0.577780 -0.056958     1.688240\n",
       "\n",
       "[430280 rows x 5 columns]"
      ]
     },
     "execution_count": 6,
     "metadata": {},
     "output_type": "execute_result"
    }
   ],
   "source": [
    "ss_speed_index.columns = ['ss_'+i for i in ss_speed_index.columns.to_list()]\n",
    "ss_speed_index"
   ]
  },
  {
   "attachments": {},
   "cell_type": "markdown",
   "metadata": {},
   "source": [
    "#### 3.2 基于标准化后的的特征进行聚类，返回聚类结果"
   ]
  },
  {
   "cell_type": "code",
   "execution_count": 7,
   "metadata": {},
   "outputs": [
    {
     "name": "stdout",
     "output_type": "stream",
     "text": [
      "完成聚类\n"
     ]
    },
    {
     "data": {
      "text/plain": [
       "['../GpsData/两阶段聚类_New/一阶段速度聚类/速度相关指标__聚类模型.pkl']"
      ]
     },
     "execution_count": 7,
     "metadata": {},
     "output_type": "execute_result"
    }
   ],
   "source": [
    "data = pd.concat([data, ss_speed_index], axis=1)\n",
    "# 创建加速、减速事件的聚类类\n",
    "speed_clus = Clustering(data[ss_speed_index.columns.to_list(\n",
    ")], calc_best_cluster_flag=False, max_cluster=4, best_cluster=2)\n",
    "print('完成聚类')\n",
    "if speed_clus.calc_best_cluster_flag:\n",
    "    speed_clus.show_silhouette_clusters()\n",
    "    print('轮廓系数：{}'.format(speed_clus.silhouette_scores))\n",
    "    plt.savefig('../GpsFigure/两阶段聚类_New/一阶段速度聚类/速度相关指标_聚类数与轮廓系数图.pdf')\n",
    "data['v_label'] = speed_clus.best_labels\n",
    "data.to_excel('../GpsData/两阶段聚类_New/一阶段速度聚类/速度相关指标_聚类结果.xlsx', index=False)\n",
    "\n",
    "# 速度聚类模型保存\n",
    "joblib.dump(speed_clus, '../GpsData/两阶段聚类_New/一阶段速度聚类/速度相关指标__聚类模型.pkl')\n"
   ]
  },
  {
   "attachments": {},
   "cell_type": "markdown",
   "metadata": {},
   "source": [
    "#### 3.3 标准化速度特征进行降维,追加至加速事件原始数据中"
   ]
  },
  {
   "cell_type": "code",
   "execution_count": 8,
   "metadata": {},
   "outputs": [
    {
     "data": {
      "text/plain": [
       "['../GpsData/两阶段聚类_New/一阶段速度聚类/标准化速度相关指标_PCA模型.pkl']"
      ]
     },
     "execution_count": 8,
     "metadata": {},
     "output_type": "execute_result"
    }
   ],
   "source": [
    "# 创建加速事件PCA降维类\n",
    "speed_dr = DimensionReduce(ss_speed_index, n_pc=2)\n",
    "speed_tve = speed_dr.calc_total_variance_explain()\n",
    "speed_tve.to_excel(\n",
    "    '../GpsData/两阶段聚类_New/一阶段速度聚类/标准化速度相关指标_主成分总解释方差.xlsx', index=False)\n",
    "\n",
    "speed_rc_load = speed_dr.calc_RC_loadings()\n",
    "speed_rc_load.to_excel(\n",
    "    '../GpsData/两阶段聚类_New/一阶段速度聚类/标准化速度相关指标_主成分旋转载荷.xlsx', index=True)\n",
    "\n",
    "data = pd.concat([data, speed_dr.pcs], axis=1)\n",
    "data = data.rename(columns={'PC1': 'v_PC1', 'PC2': 'v_PC2'})\n",
    "data.to_excel('../GpsData/两阶段聚类_New/一阶段速度聚类/标准化速度相关指标_主成分结果.xlsx', index=False)\n",
    "\n",
    "# 速度PCA降维模型保存\n",
    "joblib.dump(speed_dr, '../GpsData/两阶段聚类_New/一阶段速度聚类/标准化速度相关指标_PCA模型.pkl')\n"
   ]
  },
  {
   "attachments": {},
   "cell_type": "markdown",
   "metadata": {},
   "source": [
    "#### 3.4 可视化聚类轮廓系数结果"
   ]
  },
  {
   "cell_type": "code",
   "execution_count": 12,
   "metadata": {},
   "outputs": [
    {
     "name": "stdout",
     "output_type": "stream",
     "text": [
      "The average silhouette score of all samples:  0.4495223554851797\n",
      "The average silhouette score of cluster 0 : 0.45\n",
      "The average silhouette score of cluster 1 : 0.44\n"
     ]
    },
    {
     "data": {
      "image/png": "[encoded data removed]",
      "text/plain": [
       "<Figure size 400x300 with 1 Axes>"
      ]
     },
     "metadata": {},
     "output_type": "display_data"
    }
   ],
   "source": [
    "data = pd.read_excel('../GpsData/两阶段聚类_New/一阶段速度聚类/标准化速度相关指标_主成分结果.xlsx')\n",
    "cls_list = list(data[['max_v', 'mean_v', 'std_v', 'min_v','duration', 'v_label']].groupby(\n",
    "    'v_label').mean().sort_values(by='max_v').index)\n",
    "show_silhouette_plot(data.sample(n=100000, random_state=42), x_cols=['v_PC1', 'v_PC2'], y_col='v_label',\n",
    "                     num_cls=2, cls_list=cls_list, colors=['#8a2e3b', '#b2d235', '#dea32c', '#6950a1'])\n",
    "plt.savefig('../GpsFigure/两阶段聚类_New/一阶段速度聚类/标准化速度相关指标_最优聚类轮廓图.png', dpi=1200)"
   ]
  },
  {
   "attachments": {},
   "cell_type": "markdown",
   "metadata": {},
   "source": [
    "#### 3.5 可视化聚类散点图"
   ]
  },
  {
   "cell_type": "code",
   "execution_count": 11,
   "metadata": {},
   "outputs": [
    {
     "data": {
      "image/png": "[encoded data removed]",
      "text/plain": [
       "<Figure size 400x300 with 1 Axes>"
      ]
     },
     "metadata": {},
     "output_type": "display_data"
    }
   ],
   "source": [
    "speed_dr = joblib.load('../GpsData/两阶段聚类_New/一阶段速度聚类/标准化速度相关指标_PCA模型.pkl')\n",
    "cls_list = list(data[['max_v', 'mean_v', 'std_v', 'min_v', 'duration', 'v_label']].groupby(\n",
    "    'v_label').mean().sort_values(by='max_v').index)\n",
    "\n",
    "show_class_result(data.sample(100000, random_state=42), PC_list=['v_PC1', 'v_PC2'], label='v_label',\n",
    "                  pca=speed_dr.pca, num_cls=2, feature_num=5,\n",
    "                  arrow_text_list=[\n",
    "                      r'$v_{max}$', r'$v_{mean}$', r'$v_{std}$', r'$v_{min}$', '$T$'],\n",
    "                  xy_labels=[\n",
    "                      'Velocity choice (PC1)', 'Velocity variability (PC2)'],\n",
    "                  cls_list=cls_list, cls_legend=['S1', 'S2'], cls_colors=['#bb505d', '#7fb80e', '#4e72b8'],\n",
    "                  vector_scale=1.5)\n",
    "\n",
    "plt.savefig('../GpsFigure/两阶段聚类_New/一阶段速度聚类/标准化速度相关指标_聚类散点图.png', dpi=1200)\n"
   ]
  },
  {
   "attachments": {},
   "cell_type": "markdown",
   "metadata": {},
   "source": [
    "#### 3.6 求解速度聚类中心点"
   ]
  },
  {
   "cell_type": "code",
   "execution_count": 13,
   "metadata": {},
   "outputs": [],
   "source": [
    "centers = speed_clus.best_kmeans.cluster_centers_\n",
    "x_centers = speed_ss.scaler.inverse_transform(centers)\n",
    "x_centers = pd.DataFrame(x_centers, columns=speed_index.columns)\n",
    "x_centers.to_excel('../GpsData/两阶段聚类_New/一阶段速度聚类/速度相关指标_聚类中心点.xlsx', index=False)"
   ]
  },
  {
   "cell_type": "code",
   "execution_count": 14,
   "metadata": {},
   "outputs": [
    {
     "data": {
      "text/html": [
       "<div>\n",
       "<style scoped>\n",
       "    .dataframe tbody tr th:only-of-type {\n",
       "        vertical-align: middle;\n",
       "    }\n",
       "\n",
       "    .dataframe tbody tr th {\n",
       "        vertical-align: top;\n",
       "    }\n",
       "\n",
       "    .dataframe thead th {\n",
       "        text-align: right;\n",
       "    }\n",
       "</style>\n",
       "<table border=\"1\" class=\"dataframe\">\n",
       "  <thead>\n",
       "    <tr style=\"text-align: right;\">\n",
       "      <th></th>\n",
       "      <th>max_v</th>\n",
       "      <th>mean_v</th>\n",
       "      <th>std_v</th>\n",
       "      <th>min_v</th>\n",
       "      <th>duration</th>\n",
       "    </tr>\n",
       "  </thead>\n",
       "  <tbody>\n",
       "    <tr>\n",
       "      <th>0</th>\n",
       "      <td>67.545065</td>\n",
       "      <td>63.002276</td>\n",
       "      <td>3.359817</td>\n",
       "      <td>58.172620</td>\n",
       "      <td>10.236552</td>\n",
       "    </tr>\n",
       "    <tr>\n",
       "      <th>1</th>\n",
       "      <td>38.445142</td>\n",
       "      <td>32.599226</td>\n",
       "      <td>4.566016</td>\n",
       "      <td>25.959829</td>\n",
       "      <td>8.652699</td>\n",
       "    </tr>\n",
       "  </tbody>\n",
       "</table>\n",
       "</div>"
      ],
      "text/plain": [
       "       max_v     mean_v     std_v      min_v   duration\n",
       "0  67.545065  63.002276  3.359817  58.172620  10.236552\n",
       "1  38.445142  32.599226  4.566016  25.959829   8.652699"
      ]
     },
     "execution_count": 14,
     "metadata": {},
     "output_type": "execute_result"
    }
   ],
   "source": [
    "x_centers"
   ]
  }
 ],
 "metadata": {
  "kernelspec": {
   "display_name": "base",
   "language": "python",
   "name": "python3"
  },
  "language_info": {
   "codemirror_mode": {
    "name": "ipython",
    "version": 3
   },
   "file_extension": ".py",
   "mimetype": "text/x-python",
   "name": "python",
   "nbconvert_exporter": "python",
   "pygments_lexer": "ipython3",
   "version": "3.10.9"
  },
  "orig_nbformat": 4
 },
 "nbformat": 4,
 "nbformat_minor": 2
}
