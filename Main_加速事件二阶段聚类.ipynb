{
 "cells": [
  {
   "attachments": {},
   "cell_type": "markdown",
   "metadata": {},
   "source": [
    "### 1. 导入完成主成分分析和聚类所需要的包"
   ]
  },
  {
   "cell_type": "code",
   "execution_count": 2,
   "metadata": {},
   "outputs": [],
   "source": [
    "import matplotlib.pyplot as plt\n",
    "import pandas as pd\n",
    "import numpy as np\n",
    "from A06_PCA import DimensionReduce, show_scree_plot, show_correlation_plot\n",
    "from A07_KMeans import Clustering\n",
    "from A06_StandardScaler import Standard\n",
    "from ShowClusterScatter import show_class_result\n",
    "from ShowSilhouette import show_silhouette_plot\n",
    "import warnings\n",
    "import joblib\n",
    "\n",
    "warnings.filterwarnings('ignore')\n",
    "\n",
    "plt.rc('font', family='Times New Roman')\n"
   ]
  },
  {
   "attachments": {},
   "cell_type": "markdown",
   "metadata": {},
   "source": [
    "### 1 对加速事件中的加速度特征进行标准化，并返回标准化后的结果scaler_acc_X"
   ]
  },
  {
   "cell_type": "code",
   "execution_count": 2,
   "metadata": {},
   "outputs": [
    {
     "data": {
      "text/plain": [
       "['../GpsData/两阶段聚类_New/二阶段加速聚类/加速相关指标_数据标准化模型.pkl']"
      ]
     },
     "execution_count": 2,
     "metadata": {},
     "output_type": "execute_result"
    }
   ],
   "source": [
    "data = pd.read_excel('../GpsData/两阶段聚类_New/一阶段速度聚类/标准化速度相关指标_主成分结果.xlsx')\n",
    "# 提取加速事件的加速度特征指标进行标准化\n",
    "acc_data = data[data['logo'] == '加速事件'].reset_index(drop=True)\n",
    "acc_X = acc_data[['max_acc_lon', 'mean_acc_lon', 'std_acc_lon',\n",
    "                  'max_jerk', 'mean_jerk', 'std_jerk']]\n",
    "acc_ss = Standard(acc_X)\n",
    "scaler_acc_X = acc_ss.out_scaled_result()\n",
    "# 速度聚类模型保存\n",
    "joblib.dump(acc_ss, '../GpsData/两阶段聚类_New/二阶段加速聚类/加速相关指标_数据标准化模型.pkl')\n"
   ]
  },
  {
   "cell_type": "code",
   "execution_count": 3,
   "metadata": {},
   "outputs": [],
   "source": [
    "scaler_acc_X.columns = ['ss_'+i for i in scaler_acc_X.columns.to_list()]\n",
    "acc_data = pd.concat([acc_data, scaler_acc_X], axis=1)"
   ]
  },
  {
   "attachments": {},
   "cell_type": "markdown",
   "metadata": {},
   "source": [
    "### 2 对加速特征进行进行降维，追加到原始速度中"
   ]
  },
  {
   "cell_type": "code",
   "execution_count": 4,
   "metadata": {},
   "outputs": [
    {
     "data": {
      "text/plain": [
       "['../GpsData/两阶段聚类_New/二阶段加速聚类/加速相关指标_降维模型.pkl']"
      ]
     },
     "execution_count": 4,
     "metadata": {},
     "output_type": "execute_result"
    }
   ],
   "source": [
    "# 创建加速事件PCA降维类\n",
    "acc_dr = DimensionReduce(scaler_acc_X,n_pc=2)\n",
    "acc_tve = acc_dr.calc_total_variance_explain()\n",
    "acc_tve.to_excel('../GpsData/两阶段聚类_New/二阶段加速聚类/加速相关指标_主成分总解释方差.xlsx', index=False)\n",
    "\n",
    "acc_rc_load = acc_dr.calc_RC_loadings()\n",
    "acc_rc_load.to_excel('../GpsData/两阶段聚类_New/二阶段加速聚类/加速相关指标_主成分旋转载荷.xlsx', index=True)\n",
    "\n",
    "acc_data = pd.concat([acc_data,acc_dr.pcs],axis=1)\n",
    "acc_data = acc_data.rename(columns={'PC1': 'acc_PC1', 'PC2': 'acc_PC2'})\n",
    "acc_data.to_excel('../GpsData/两阶段聚类_New/二阶段加速聚类/加速相关指标_主成分结果.xlsx', index=False)\n",
    "# 速度聚类模型保存\n",
    "joblib.dump(acc_dr,'../GpsData/两阶段聚类_New/二阶段加速聚类/加速相关指标_降维模型.pkl')"
   ]
  },
  {
   "attachments": {},
   "cell_type": "markdown",
   "metadata": {},
   "source": [
    "### 3 基于标准化的加速度特征进行二级聚类，返回聚类轮廓图和聚类中心点"
   ]
  },
  {
   "cell_type": "code",
   "execution_count": 5,
   "metadata": {},
   "outputs": [
    {
     "name": "stdout",
     "output_type": "stream",
     "text": [
      "完成0聚类\n",
      "The average silhouette score of all samples:  0.5046852426772628\n",
      "The average silhouette score of cluster 0 : 0.62\n",
      "The average silhouette score of cluster 1 : 0.31\n",
      "The average silhouette score of cluster 2 : 0.06\n",
      "完成1聚类\n",
      "The average silhouette score of all samples:  0.41606039447069504\n",
      "The average silhouette score of cluster 0 : 0.56\n",
      "The average silhouette score of cluster 1 : 0.29\n",
      "The average silhouette score of cluster 2 : 0.07\n"
     ]
    },
    {
     "data": {
      "image/png": "[encoded data removed]",
      "text/plain": [
       "<Figure size 400x300 with 1 Axes>"
      ]
     },
     "metadata": {},
     "output_type": "display_data"
    },
    {
     "data": {
      "image/png": "[encoded data removed]",
      "text/plain": [
       "<Figure size 400x300 with 1 Axes>"
      ]
     },
     "metadata": {},
     "output_type": "display_data"
    }
   ],
   "source": [
    "# acc_data = pd.read_excel('../GpsData/两阶段聚类_New/二阶段加速聚类/加速相关指标_主成分结果.xlsx')\n",
    "all_acc_event = []\n",
    "for i in range(2):\n",
    "    acc_event = acc_data[acc_data['v_label'] == i]\n",
    "    acc_clus = Clustering(\n",
    "        acc_event[scaler_acc_X.columns.to_list()], calc_best_cluster_flag=False, best_cluster=3)\n",
    "    print('完成{}聚类'.format(i))\n",
    "    if acc_clus.calc_best_cluster_flag:\n",
    "        acc_clus.show_silhouette_clusters()\n",
    "        print('速度{}轮廓系数：{}'.format(i, acc_clus.silhouette_scores))\n",
    "        plt.savefig(\n",
    "            '../GpsFigure/两阶段聚类_New/二阶段加速聚类/speed{}_加速相关指标_聚类数与轮廓系数图.pdf'.format(i))\n",
    "    acc_event['acc_label'] = acc_clus.best_labels\n",
    "    all_acc_event.append(acc_event)\n",
    "    # 绘制加速、减速事件轮廓系数图\n",
    "    cls_list = list(acc_event[['max_acc_lon', 'acc_label']].groupby(\n",
    "        'acc_label').mean().sort_values(by='max_acc_lon').index)\n",
    "    show_silhouette_plot(acc_event, x_cols=['acc_PC1', 'acc_PC2'], y_col='acc_label',\n",
    "                         num_cls=3, cls_list=cls_list, colors=['#7fb80e', '#dea32c', '#6950a1'])\n",
    "    plt.savefig(\n",
    "        '../GpsFigure/两阶段聚类_New/二阶段加速聚类/speed{}_加速相关指标_最优聚类轮廓图.png'.format(i), dpi=1200)\n",
    "    # 求解聚类中心\n",
    "    centers = acc_clus.best_kmeans.cluster_centers_\n",
    "    # x_centers = acc_dr.pca.inverse_transform(centers)\n",
    "    x_centers = acc_ss.scaler.inverse_transform(centers)\n",
    "    x_centers = pd.DataFrame(x_centers, columns=acc_X.columns)\n",
    "    x_centers.to_excel(\n",
    "        '../GpsData/两阶段聚类_New/二阶段加速聚类/speed{}_加速相关指标_聚类中心点.xlsx'.format(i), index=False)\n",
    "\n",
    "all_acc_event = pd.concat(all_acc_event, axis=0).reset_index(drop=True)\n",
    "all_acc_event.to_excel(\n",
    "    '../GpsData/两阶段聚类_New/二阶段加速聚类/加速相关指标_聚类结果.xlsx', index=False)\n"
   ]
  },
  {
   "attachments": {},
   "cell_type": "markdown",
   "metadata": {},
   "source": [
    "### 4 可视化加速度特征二阶段聚类散点图"
   ]
  },
  {
   "cell_type": "code",
   "execution_count": 10,
   "metadata": {},
   "outputs": [],
   "source": [
    "import numpy as np\n",
    "import matplotlib.pyplot as plt\n",
    "import pandas as pd\n",
    "\n",
    "plt.rc('font',family='Times New Roman')\n",
    "\n",
    "def show_class_result(data:pd.DataFrame, PC_list:list, label:str, pca, num_cls:int, feature_num:int, arrow_text_list:list, xy_labels:list, \n",
    "                      cls_list:list, cls_legend:list, cls_colors = ['#bb505d','#7fb80e','#4e72b8'], vector_scale:float = 1):\n",
    "    \"\"\"绘制降维后的散点图\n",
    "    Args:\n",
    "        data (pd.DataFrame): 需要绘制散点的数据集\n",
    "        PC_list (list): 散点图x,y轴对应数据data中的列名\n",
    "        label (str): 散点图分类标签对应数据data中的列名\n",
    "        pca (_type_): 降维散点图中所使用的pca模型\n",
    "        num_cls (_int_): 散点分类的个数\n",
    "        feature_num (int): 降维前的数据原始特征数\n",
    "        arrow_text_list (list): 原始特征的标签\n",
    "        xy_labels (list): 绘图坐标轴的标题\n",
    "        cls_list (list): 分类标签的列表\n",
    "        cls_legend (list): 绘图中所使用的分类图例\n",
    "        cls_colors (list, optional): 散点分类所使用的颜色. Defaults to ['#bb505d','#7fb80e','#4e72b8'].\n",
    "        vector_scale (float, optional): 矢量图缩放比例. Defaults to 1.\n",
    "    \"\"\"    \n",
    "    fig,ax = plt.subplots(figsize=(4,3))\n",
    "\n",
    "    # 绘制原点的水平线和垂直线\n",
    "    ax.axhline(y=0, color='#3e4145', linestyle='--', linewidth=0.8)\n",
    "    ax.axvline(x=0, color='#3e4145', linestyle='--', linewidth=0.8)\n",
    "    \n",
    "    # 可视化分类结果\n",
    "    # 按照label列分组，将不同的标签对应的数据分别绘制在散点图上，并使用不同颜色表示\n",
    "    marker_list = ['o', '^', 'x', 'D']\n",
    "    for i in range(num_cls):\n",
    "        x = data.loc[data[label] == cls_list[i], PC_list[0]]\n",
    "        y = data.loc[data[label] == cls_list[i], PC_list[1]]\n",
    "        plt.scatter(x, y, c=cls_colors[i], label=cls_legend[i], marker=marker_list[i], s=1, alpha=0.5)\n",
    "    \n",
    "    # 绘制原始特征的向量线\n",
    "    features = np.eye(feature_num)\n",
    "    feature_vectors = pca.transform(features)\n",
    "    for i, (x, y) in enumerate(feature_vectors[:,[0,1]]):\n",
    "        plt.arrow(0, 0, x*feature_num*vector_scale, y*feature_num*vector_scale, color='#130c0e',width=0.01, head_width=0.3, \n",
    "                head_length=0.3, length_includes_head=True, zorder=100)\n",
    "        plt.text(x*feature_num*vector_scale, y*feature_num*vector_scale, arrow_text_list[i], fontsize=10, color='k')\n",
    "    \n",
    "    # 设置轴标题\n",
    "    plt.xlabel(xy_labels[0], fontsize=12)\n",
    "    plt.ylabel(xy_labels[1], fontsize=12)\n",
    "    \n",
    "\n",
    "    plt.xlim([-7.5,20])\n",
    "    plt.ylim([-7.5,15])\n",
    "    \n",
    "    # 设置轴刻度属性\n",
    "    plt.xticks(fontsize=10.5)\n",
    "    plt.yticks(fontsize=10.5)\n",
    "    \n",
    "    # 设置图例\n",
    "    plt.legend(title='Clusters', fontsize=10.5, loc='upper right')\n",
    "    plt.tight_layout()\n",
    "    "
   ]
  },
  {
   "cell_type": "code",
   "execution_count": 11,
   "metadata": {},
   "outputs": [
    {
     "data": {
      "image/png": "[encoded data removed]",
      "text/plain": [
       "<Figure size 400x300 with 1 Axes>"
      ]
     },
     "metadata": {},
     "output_type": "display_data"
    },
    {
     "data": {
      "image/png": "[encoded data removed]",
      "text/plain": [
       "<Figure size 400x300 with 1 Axes>"
      ]
     },
     "metadata": {},
     "output_type": "display_data"
    }
   ],
   "source": [
    "acc_data = pd.read_excel('../GpsData/两阶段聚类_New/二阶段加速聚类/加速相关指标_聚类结果.xlsx')\n",
    "# 速度聚类模型保存\n",
    "acc_dr = joblib.load('../GpsData/两阶段聚类_New/二阶段加速聚类/加速相关指标_降维模型.pkl')\n",
    "for i in range(2):\n",
    "    event = acc_data[acc_data['v_label'] == i]\n",
    "    cls_list = list(event[['max_acc_lon', 'acc_label']].groupby('acc_label').mean().sort_values(\n",
    "        by='max_acc_lon').index)\n",
    "    show_class_result(event, PC_list=['acc_PC1', 'acc_PC2'], label='acc_label',  pca=acc_dr.pca,\n",
    "                      num_cls=3, feature_num=6,\n",
    "                      arrow_text_list=[r'$accc_{max}$', r'$acc_{mean}$', r'$acc_{std}$',\n",
    "                                       r'$jerk_{max}$', r'$jerk_{mean}$', r'$jerk_{std}$'],\n",
    "                      xy_labels=[\n",
    "                          'Acceleration behavior (PC1)', 'Acceleration fluctuation (PC2)'],\n",
    "                      cls_list=cls_list, cls_legend=['A1', 'A2', 'A3'],\n",
    "                      cls_colors=['#7fb80e', '#dea32c', '#6950a1'],\n",
    "                      vector_scale=1.5)\n",
    "    plt.savefig(\n",
    "        '../GpsFigure/两阶段聚类_New/二阶段加速聚类/速度{}_加速相关指标_聚类散点图.png'.format(i), dpi=1200)\n"
   ]
  },
  {
   "cell_type": "code",
   "execution_count": 9,
   "metadata": {},
   "outputs": [
    {
     "data": {
      "text/html": [
       "<div>\n",
       "<style scoped>\n",
       "    .dataframe tbody tr th:only-of-type {\n",
       "        vertical-align: middle;\n",
       "    }\n",
       "\n",
       "    .dataframe tbody tr th {\n",
       "        vertical-align: top;\n",
       "    }\n",
       "\n",
       "    .dataframe thead th {\n",
       "        text-align: right;\n",
       "    }\n",
       "</style>\n",
       "<table border=\"1\" class=\"dataframe\">\n",
       "  <thead>\n",
       "    <tr style=\"text-align: right;\">\n",
       "      <th></th>\n",
       "      <th>phone</th>\n",
       "      <th>start_time</th>\n",
       "      <th>end_time</th>\n",
       "      <th>duration</th>\n",
       "      <th>min_v</th>\n",
       "      <th>max_v</th>\n",
       "      <th>mean_v</th>\n",
       "      <th>std_v</th>\n",
       "      <th>max_acc_lon</th>\n",
       "      <th>mean_acc_lon</th>\n",
       "      <th>...</th>\n",
       "      <th>v_PC1</th>\n",
       "      <th>v_PC2</th>\n",
       "      <th>ss_max_acc_lon</th>\n",
       "      <th>ss_mean_acc_lon</th>\n",
       "      <th>ss_std_acc_lon</th>\n",
       "      <th>ss_max_jerk</th>\n",
       "      <th>ss_mean_jerk</th>\n",
       "      <th>ss_std_jerk</th>\n",
       "      <th>acc_PC1</th>\n",
       "      <th>acc_PC2</th>\n",
       "    </tr>\n",
       "    <tr>\n",
       "      <th>acc_label</th>\n",
       "      <th></th>\n",
       "      <th></th>\n",
       "      <th></th>\n",
       "      <th></th>\n",
       "      <th></th>\n",
       "      <th></th>\n",
       "      <th></th>\n",
       "      <th></th>\n",
       "      <th></th>\n",
       "      <th></th>\n",
       "      <th></th>\n",
       "      <th></th>\n",
       "      <th></th>\n",
       "      <th></th>\n",
       "      <th></th>\n",
       "      <th></th>\n",
       "      <th></th>\n",
       "      <th></th>\n",
       "      <th></th>\n",
       "      <th></th>\n",
       "      <th></th>\n",
       "    </tr>\n",
       "  </thead>\n",
       "  <tbody>\n",
       "    <tr>\n",
       "      <th>0</th>\n",
       "      <td>58987</td>\n",
       "      <td>58987</td>\n",
       "      <td>58987</td>\n",
       "      <td>58987</td>\n",
       "      <td>58987</td>\n",
       "      <td>58987</td>\n",
       "      <td>58987</td>\n",
       "      <td>58987</td>\n",
       "      <td>58987</td>\n",
       "      <td>58987</td>\n",
       "      <td>...</td>\n",
       "      <td>58987</td>\n",
       "      <td>58987</td>\n",
       "      <td>58987</td>\n",
       "      <td>58987</td>\n",
       "      <td>58987</td>\n",
       "      <td>58987</td>\n",
       "      <td>58987</td>\n",
       "      <td>58987</td>\n",
       "      <td>58987</td>\n",
       "      <td>58987</td>\n",
       "    </tr>\n",
       "    <tr>\n",
       "      <th>1</th>\n",
       "      <td>28687</td>\n",
       "      <td>28687</td>\n",
       "      <td>28687</td>\n",
       "      <td>28687</td>\n",
       "      <td>28687</td>\n",
       "      <td>28687</td>\n",
       "      <td>28687</td>\n",
       "      <td>28687</td>\n",
       "      <td>28687</td>\n",
       "      <td>28687</td>\n",
       "      <td>...</td>\n",
       "      <td>28687</td>\n",
       "      <td>28687</td>\n",
       "      <td>28687</td>\n",
       "      <td>28687</td>\n",
       "      <td>28687</td>\n",
       "      <td>28687</td>\n",
       "      <td>28687</td>\n",
       "      <td>28687</td>\n",
       "      <td>28687</td>\n",
       "      <td>28687</td>\n",
       "    </tr>\n",
       "    <tr>\n",
       "      <th>2</th>\n",
       "      <td>3055</td>\n",
       "      <td>3055</td>\n",
       "      <td>3055</td>\n",
       "      <td>3055</td>\n",
       "      <td>3055</td>\n",
       "      <td>3055</td>\n",
       "      <td>3055</td>\n",
       "      <td>3055</td>\n",
       "      <td>3055</td>\n",
       "      <td>3055</td>\n",
       "      <td>...</td>\n",
       "      <td>3055</td>\n",
       "      <td>3055</td>\n",
       "      <td>3055</td>\n",
       "      <td>3055</td>\n",
       "      <td>3055</td>\n",
       "      <td>3055</td>\n",
       "      <td>3055</td>\n",
       "      <td>3055</td>\n",
       "      <td>3055</td>\n",
       "      <td>3055</td>\n",
       "    </tr>\n",
       "  </tbody>\n",
       "</table>\n",
       "<p>3 rows × 39 columns</p>\n",
       "</div>"
      ],
      "text/plain": [
       "           phone  start_time  end_time  duration  min_v  max_v  mean_v  std_v  \\\n",
       "acc_label                                                                       \n",
       "0          58987       58987     58987     58987  58987  58987   58987  58987   \n",
       "1          28687       28687     28687     28687  28687  28687   28687  28687   \n",
       "2           3055        3055      3055      3055   3055   3055    3055   3055   \n",
       "\n",
       "           max_acc_lon  mean_acc_lon  ...  v_PC1  v_PC2  ss_max_acc_lon  \\\n",
       "acc_label                             ...                                 \n",
       "0                58987         58987  ...  58987  58987           58987   \n",
       "1                28687         28687  ...  28687  28687           28687   \n",
       "2                 3055          3055  ...   3055   3055            3055   \n",
       "\n",
       "           ss_mean_acc_lon  ss_std_acc_lon  ss_max_jerk  ss_mean_jerk  \\\n",
       "acc_label                                                               \n",
       "0                    58987           58987        58987         58987   \n",
       "1                    28687           28687        28687         28687   \n",
       "2                     3055            3055         3055          3055   \n",
       "\n",
       "           ss_std_jerk  acc_PC1  acc_PC2  \n",
       "acc_label                                 \n",
       "0                58987    58987    58987  \n",
       "1                28687    28687    28687  \n",
       "2                 3055     3055     3055  \n",
       "\n",
       "[3 rows x 39 columns]"
      ]
     },
     "execution_count": 9,
     "metadata": {},
     "output_type": "execute_result"
    }
   ],
   "source": [
    "acc_data[acc_data['v_label']==0].groupby('acc_label').count()"
   ]
  },
  {
   "cell_type": "code",
   "execution_count": 10,
   "metadata": {},
   "outputs": [
    {
     "data": {
      "text/html": [
       "<div>\n",
       "<style scoped>\n",
       "    .dataframe tbody tr th:only-of-type {\n",
       "        vertical-align: middle;\n",
       "    }\n",
       "\n",
       "    .dataframe tbody tr th {\n",
       "        vertical-align: top;\n",
       "    }\n",
       "\n",
       "    .dataframe thead th {\n",
       "        text-align: right;\n",
       "    }\n",
       "</style>\n",
       "<table border=\"1\" class=\"dataframe\">\n",
       "  <thead>\n",
       "    <tr style=\"text-align: right;\">\n",
       "      <th></th>\n",
       "      <th>phone</th>\n",
       "      <th>duration</th>\n",
       "      <th>min_v</th>\n",
       "      <th>max_v</th>\n",
       "      <th>mean_v</th>\n",
       "      <th>std_v</th>\n",
       "      <th>max_acc_lon</th>\n",
       "      <th>mean_acc_lon</th>\n",
       "      <th>std_acc_lon</th>\n",
       "      <th>min_acc_lon</th>\n",
       "      <th>...</th>\n",
       "      <th>v_PC1</th>\n",
       "      <th>v_PC2</th>\n",
       "      <th>ss_max_acc_lon</th>\n",
       "      <th>ss_mean_acc_lon</th>\n",
       "      <th>ss_std_acc_lon</th>\n",
       "      <th>ss_max_jerk</th>\n",
       "      <th>ss_mean_jerk</th>\n",
       "      <th>ss_std_jerk</th>\n",
       "      <th>acc_PC1</th>\n",
       "      <th>acc_PC2</th>\n",
       "    </tr>\n",
       "    <tr>\n",
       "      <th>acc_label</th>\n",
       "      <th></th>\n",
       "      <th></th>\n",
       "      <th></th>\n",
       "      <th></th>\n",
       "      <th></th>\n",
       "      <th></th>\n",
       "      <th></th>\n",
       "      <th></th>\n",
       "      <th></th>\n",
       "      <th></th>\n",
       "      <th></th>\n",
       "      <th></th>\n",
       "      <th></th>\n",
       "      <th></th>\n",
       "      <th></th>\n",
       "      <th></th>\n",
       "      <th></th>\n",
       "      <th></th>\n",
       "      <th></th>\n",
       "      <th></th>\n",
       "      <th></th>\n",
       "    </tr>\n",
       "  </thead>\n",
       "  <tbody>\n",
       "    <tr>\n",
       "      <th>0</th>\n",
       "      <td>1.438750e+10</td>\n",
       "      <td>12.739332</td>\n",
       "      <td>58.307708</td>\n",
       "      <td>67.331083</td>\n",
       "      <td>62.821048</td>\n",
       "      <td>3.066755</td>\n",
       "      <td>0.412220</td>\n",
       "      <td>0.225442</td>\n",
       "      <td>0.110156</td>\n",
       "      <td>0.069329</td>\n",
       "      <td>...</td>\n",
       "      <td>1.859434</td>\n",
       "      <td>0.058077</td>\n",
       "      <td>-0.834535</td>\n",
       "      <td>-0.829826</td>\n",
       "      <td>-0.711437</td>\n",
       "      <td>-0.500061</td>\n",
       "      <td>0.467427</td>\n",
       "      <td>-0.731076</td>\n",
       "      <td>-1.695117</td>\n",
       "      <td>0.040999</td>\n",
       "    </tr>\n",
       "    <tr>\n",
       "      <th>1</th>\n",
       "      <td>1.443013e+10</td>\n",
       "      <td>7.471851</td>\n",
       "      <td>55.950995</td>\n",
       "      <td>65.136264</td>\n",
       "      <td>60.527804</td>\n",
       "      <td>3.411597</td>\n",
       "      <td>0.789948</td>\n",
       "      <td>0.398565</td>\n",
       "      <td>0.248207</td>\n",
       "      <td>0.117019</td>\n",
       "      <td>...</td>\n",
       "      <td>1.469895</td>\n",
       "      <td>-0.506739</td>\n",
       "      <td>0.228996</td>\n",
       "      <td>0.056497</td>\n",
       "      <td>0.232805</td>\n",
       "      <td>0.341273</td>\n",
       "      <td>-0.081004</td>\n",
       "      <td>0.312787</td>\n",
       "      <td>0.499972</td>\n",
       "      <td>-0.247022</td>\n",
       "    </tr>\n",
       "    <tr>\n",
       "      <th>2</th>\n",
       "      <td>1.443374e+10</td>\n",
       "      <td>4.168576</td>\n",
       "      <td>57.857676</td>\n",
       "      <td>66.365041</td>\n",
       "      <td>62.053711</td>\n",
       "      <td>3.973956</td>\n",
       "      <td>1.498563</td>\n",
       "      <td>0.724626</td>\n",
       "      <td>0.618042</td>\n",
       "      <td>0.222831</td>\n",
       "      <td>...</td>\n",
       "      <td>1.494598</td>\n",
       "      <td>-0.774844</td>\n",
       "      <td>2.224170</td>\n",
       "      <td>1.725803</td>\n",
       "      <td>2.762421</td>\n",
       "      <td>0.832687</td>\n",
       "      <td>-2.505999</td>\n",
       "      <td>2.409638</td>\n",
       "      <td>5.171320</td>\n",
       "      <td>0.855067</td>\n",
       "    </tr>\n",
       "  </tbody>\n",
       "</table>\n",
       "<p>3 rows × 34 columns</p>\n",
       "</div>"
      ],
      "text/plain": [
       "                  phone   duration      min_v      max_v     mean_v     std_v  \\\n",
       "acc_label                                                                       \n",
       "0          1.438750e+10  12.739332  58.307708  67.331083  62.821048  3.066755   \n",
       "1          1.443013e+10   7.471851  55.950995  65.136264  60.527804  3.411597   \n",
       "2          1.443374e+10   4.168576  57.857676  66.365041  62.053711  3.973956   \n",
       "\n",
       "           max_acc_lon  mean_acc_lon  std_acc_lon  min_acc_lon  ...     v_PC1  \\\n",
       "acc_label                                                       ...             \n",
       "0             0.412220      0.225442     0.110156     0.069329  ...  1.859434   \n",
       "1             0.789948      0.398565     0.248207     0.117019  ...  1.469895   \n",
       "2             1.498563      0.724626     0.618042     0.222831  ...  1.494598   \n",
       "\n",
       "              v_PC2  ss_max_acc_lon  ss_mean_acc_lon  ss_std_acc_lon  \\\n",
       "acc_label                                                              \n",
       "0          0.058077       -0.834535        -0.829826       -0.711437   \n",
       "1         -0.506739        0.228996         0.056497        0.232805   \n",
       "2         -0.774844        2.224170         1.725803        2.762421   \n",
       "\n",
       "           ss_max_jerk  ss_mean_jerk  ss_std_jerk   acc_PC1   acc_PC2  \n",
       "acc_label                                                              \n",
       "0            -0.500061      0.467427    -0.731076 -1.695117  0.040999  \n",
       "1             0.341273     -0.081004     0.312787  0.499972 -0.247022  \n",
       "2             0.832687     -2.505999     2.409638  5.171320  0.855067  \n",
       "\n",
       "[3 rows x 34 columns]"
      ]
     },
     "execution_count": 10,
     "metadata": {},
     "output_type": "execute_result"
    }
   ],
   "source": [
    "acc_data[acc_data['v_label']==0].groupby('acc_label').mean()"
   ]
  },
  {
   "cell_type": "code",
   "execution_count": 3,
   "metadata": {},
   "outputs": [],
   "source": [
    "data = pd.read_excel('../GpsData/两阶段聚类_New/二阶段加速聚类/加速相关指标_聚类结果.xlsx')"
   ]
  },
  {
   "cell_type": "code",
   "execution_count": 5,
   "metadata": {},
   "outputs": [
    {
     "data": {
      "text/plain": [
       "v_label  acc_label\n",
       "0        0            58987\n",
       "         1            28687\n",
       "         2             3055\n",
       "1        0            79762\n",
       "         1            11487\n",
       "         2            58445\n",
       "Name: acc_label, dtype: int64"
      ]
     },
     "execution_count": 5,
     "metadata": {},
     "output_type": "execute_result"
    }
   ],
   "source": [
    "data.groupby(['v_label','acc_label'])['acc_label'].count()"
   ]
  },
  {
   "cell_type": "code",
   "execution_count": 7,
   "metadata": {},
   "outputs": [
    {
     "data": {
      "text/html": [
       "<div>\n",
       "<style scoped>\n",
       "    .dataframe tbody tr th:only-of-type {\n",
       "        vertical-align: middle;\n",
       "    }\n",
       "\n",
       "    .dataframe tbody tr th {\n",
       "        vertical-align: top;\n",
       "    }\n",
       "\n",
       "    .dataframe thead th {\n",
       "        text-align: right;\n",
       "    }\n",
       "</style>\n",
       "<table border=\"1\" class=\"dataframe\">\n",
       "  <thead>\n",
       "    <tr style=\"text-align: right;\">\n",
       "      <th></th>\n",
       "      <th></th>\n",
       "      <th>max_v</th>\n",
       "      <th>max_acc_lon</th>\n",
       "      <th>mean_acc_lon</th>\n",
       "      <th>std_acc_lon</th>\n",
       "      <th>max_jerk</th>\n",
       "      <th>mean_jerk</th>\n",
       "      <th>std_jerk</th>\n",
       "    </tr>\n",
       "    <tr>\n",
       "      <th>v_label</th>\n",
       "      <th>acc_label</th>\n",
       "      <th></th>\n",
       "      <th></th>\n",
       "      <th></th>\n",
       "      <th></th>\n",
       "      <th></th>\n",
       "      <th></th>\n",
       "      <th></th>\n",
       "    </tr>\n",
       "  </thead>\n",
       "  <tbody>\n",
       "    <tr>\n",
       "      <th rowspan=\"3\" valign=\"top\">0</th>\n",
       "      <th>0</th>\n",
       "      <td>67.331083</td>\n",
       "      <td>0.412220</td>\n",
       "      <td>0.225442</td>\n",
       "      <td>0.110156</td>\n",
       "      <td>0.218022</td>\n",
       "      <td>-0.033153</td>\n",
       "      <td>0.167544</td>\n",
       "    </tr>\n",
       "    <tr>\n",
       "      <th>1</th>\n",
       "      <td>65.136264</td>\n",
       "      <td>0.789948</td>\n",
       "      <td>0.398565</td>\n",
       "      <td>0.248207</td>\n",
       "      <td>0.457032</td>\n",
       "      <td>-0.100443</td>\n",
       "      <td>0.404839</td>\n",
       "    </tr>\n",
       "    <tr>\n",
       "      <th>2</th>\n",
       "      <td>66.365041</td>\n",
       "      <td>1.498563</td>\n",
       "      <td>0.724626</td>\n",
       "      <td>0.618042</td>\n",
       "      <td>0.596636</td>\n",
       "      <td>-0.397980</td>\n",
       "      <td>0.881503</td>\n",
       "    </tr>\n",
       "    <tr>\n",
       "      <th rowspan=\"3\" valign=\"top\">1</th>\n",
       "      <th>0</th>\n",
       "      <td>37.569212</td>\n",
       "      <td>0.553412</td>\n",
       "      <td>0.318774</td>\n",
       "      <td>0.152510</td>\n",
       "      <td>0.269078</td>\n",
       "      <td>-0.058175</td>\n",
       "      <td>0.233140</td>\n",
       "    </tr>\n",
       "    <tr>\n",
       "      <th>1</th>\n",
       "      <td>34.504318</td>\n",
       "      <td>1.604616</td>\n",
       "      <td>0.827572</td>\n",
       "      <td>0.579122</td>\n",
       "      <td>0.750887</td>\n",
       "      <td>-0.307995</td>\n",
       "      <td>0.879347</td>\n",
       "    </tr>\n",
       "    <tr>\n",
       "      <th>2</th>\n",
       "      <td>35.732980</td>\n",
       "      <td>0.962262</td>\n",
       "      <td>0.535429</td>\n",
       "      <td>0.293752</td>\n",
       "      <td>0.490893</td>\n",
       "      <td>-0.128811</td>\n",
       "      <td>0.467982</td>\n",
       "    </tr>\n",
       "  </tbody>\n",
       "</table>\n",
       "</div>"
      ],
      "text/plain": [
       "                       max_v  max_acc_lon  mean_acc_lon  std_acc_lon  \\\n",
       "v_label acc_label                                                      \n",
       "0       0          67.331083     0.412220      0.225442     0.110156   \n",
       "        1          65.136264     0.789948      0.398565     0.248207   \n",
       "        2          66.365041     1.498563      0.724626     0.618042   \n",
       "1       0          37.569212     0.553412      0.318774     0.152510   \n",
       "        1          34.504318     1.604616      0.827572     0.579122   \n",
       "        2          35.732980     0.962262      0.535429     0.293752   \n",
       "\n",
       "                   max_jerk  mean_jerk  std_jerk  \n",
       "v_label acc_label                                 \n",
       "0       0          0.218022  -0.033153  0.167544  \n",
       "        1          0.457032  -0.100443  0.404839  \n",
       "        2          0.596636  -0.397980  0.881503  \n",
       "1       0          0.269078  -0.058175  0.233140  \n",
       "        1          0.750887  -0.307995  0.879347  \n",
       "        2          0.490893  -0.128811  0.467982  "
      ]
     },
     "execution_count": 7,
     "metadata": {},
     "output_type": "execute_result"
    }
   ],
   "source": [
    "data.groupby(['v_label','acc_label'])['max_v','max_acc_lon', 'mean_acc_lon', 'std_acc_lon', 'max_jerk', 'mean_jerk', 'std_jerk'].mean()"
   ]
  },
  {
   "cell_type": "code",
   "execution_count": 8,
   "metadata": {},
   "outputs": [
    {
     "data": {
      "text/plain": [
       "v_label\n",
       "0     90729\n",
       "1    149694\n",
       "Name: acc_label, dtype: int64"
      ]
     },
     "execution_count": 8,
     "metadata": {},
     "output_type": "execute_result"
    }
   ],
   "source": [
    "data.groupby(['v_label'])['acc_label'].count()"
   ]
  },
  {
   "cell_type": "code",
   "execution_count": 14,
   "metadata": {},
   "outputs": [
    {
     "data": {
      "text/plain": [
       "0.5328336473071733"
      ]
     },
     "execution_count": 14,
     "metadata": {},
     "output_type": "execute_result"
    }
   ],
   "source": [
    "79762/149694"
   ]
  },
  {
   "cell_type": "code",
   "execution_count": 17,
   "metadata": {},
   "outputs": [
    {
     "data": {
      "text/plain": [
       "0.6501449371204355"
      ]
     },
     "execution_count": 17,
     "metadata": {},
     "output_type": "execute_result"
    }
   ],
   "source": [
    "58987/90729"
   ]
  },
  {
   "cell_type": "code",
   "execution_count": null,
   "metadata": {},
   "outputs": [],
   "source": []
  }
 ],
 "metadata": {
  "kernelspec": {
   "display_name": "base",
   "language": "python",
   "name": "python3"
  },
  "language_info": {
   "codemirror_mode": {
    "name": "ipython",
    "version": 3
   },
   "file_extension": ".py",
   "mimetype": "text/x-python",
   "name": "python",
   "nbconvert_exporter": "python",
   "pygments_lexer": "ipython3",
   "version": "3.10.9"
  },
  "orig_nbformat": 4
 },
 "nbformat": 4,
 "nbformat_minor": 2
}
