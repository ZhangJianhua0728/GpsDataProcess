{
 "cells": [
  {
   "cell_type": "code",
   "execution_count": null,
   "metadata": {},
   "outputs": [],
   "source": [
    "import numpy as np\n",
    "import matplotlib.pyplot as plt\n",
    "import pandas as pd\n",
    "\n",
    "plt.rc('font',family='Times New Roman')"
   ]
  },
  {
   "cell_type": "code",
   "execution_count": null,
   "metadata": {},
   "outputs": [],
   "source": [
    "data = pd.read_excel('data_demo_new/加速和制动事件样例数据.xlsx')\n",
    "# 将时间列转换为日期时间类型\n",
    "data['time'] = pd.to_datetime(data['time'])\n",
    "data['t'] = [i for i in range(len(data))]\n",
    "data=data.iloc[:100,:]"
   ]
  },
  {
   "cell_type": "code",
   "execution_count": null,
   "metadata": {},
   "outputs": [],
   "source": [
    "# 创建图形和子图\n",
    "fig, axs = plt.subplots(2, 1, figsize=(7, 3.5), sharex=True, gridspec_kw={'height_ratios': [1, 1.7]})\n",
    "\n",
    "# 绘制第一行图形\n",
    "axs[0].plot(data['t'], data['v'], color='#0F5070', linewidth=2.5, alpha=0.7, zorder=100)\n",
    "# axs[0].set_xlabel('Time(s)', fontsize=12)\n",
    "axs[0].set_ylabel('Velocity(km/h)', fontsize=12)\n",
    "axs[0].set_xlim(0,100)\n",
    "axs[0].set_ylim(15,45)\n",
    "axs[0].tick_params(axis='both', which='both', labelsize=10.5)  # 设置刻度的字体大小\n",
    "\n",
    "# 绘制第二行图形\n",
    "axs[1].plot(data['t'], data['v'], color='#74787c', linewidth=2.5, alpha=0.7, zorder=100)\n",
    "for i in range(len(data)-1):\n",
    "    start_time = data['t'].iloc[i]\n",
    "    end_time = start_time+1\n",
    "    if data['标签'].iloc[i]==1:\n",
    "        axs[1].axvspan(start_time, end_time, color='#a3cf62', alpha=1)\n",
    "    elif  data['标签'].iloc[i]==2:    \n",
    "         axs[1].axvspan(start_time, end_time, color='#f391a9', alpha=1)\n",
    "axs[1].plot(data['t'], data['v'], color='#74787c', linewidth=2.5, alpha=0.7, zorder=100)\n",
    "axs[1].set_xlabel('Time(s)', fontsize=12)\n",
    "axs[1].set_ylabel('Velocity(km/h)', fontsize=12)\n",
    "axs[1].set_xlim(0,100)\n",
    "axs[1].set_ylim(15,45)\n",
    "axs[1].set_xticks([i*10 for i in range(11)])\n",
    "axs[1].tick_params(axis='both', which='both', labelsize=10.5)  # 设置刻度的字体大小\n",
    "# 调整子图之间的间距\n",
    "plt.subplots_adjust(hspace=0.2)\n",
    "\n",
    "plt.savefig('data_demo_new/加速和制动事件片段说明_new.pdf')"
   ]
  }
 ],
 "metadata": {
  "language_info": {
   "name": "python"
  },
  "orig_nbformat": 4
 },
 "nbformat": 4,
 "nbformat_minor": 2
}
